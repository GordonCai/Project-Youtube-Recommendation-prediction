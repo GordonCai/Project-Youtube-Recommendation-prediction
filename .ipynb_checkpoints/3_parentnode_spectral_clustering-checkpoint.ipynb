{
 "cells": [
  {
   "cell_type": "code",
   "execution_count": 1,
   "metadata": {
    "collapsed": false
   },
   "outputs": [],
   "source": [
    "import pandas as pd\n",
    "import numpy as np\n",
    "from pandas import DataFrame as DF\n",
    "from collections import Counter\n",
    "from matplotlib import pyplot as plt\n",
    "import matplotlib.cm as cm\n",
    "import networkx as nx\n",
    "from sklearn.preprocessing import MinMaxScaler\n",
    "from sklearn.cluster import KMeans\n",
    "from sklearn.decomposition import TruncatedSVD\n",
    "import pickle\n",
    "import math"
   ]
  },
  {
   "cell_type": "markdown",
   "metadata": {},
   "source": [
    "## read data"
   ]
  },
  {
   "cell_type": "code",
   "execution_count": 2,
   "metadata": {
    "collapsed": false
   },
   "outputs": [
    {
     "data": {
      "text/html": [
       "<div>\n",
       "<table border=\"1\" class=\"dataframe\">\n",
       "  <thead>\n",
       "    <tr style=\"text-align: right;\">\n",
       "      <th></th>\n",
       "      <th>video_id</th>\n",
       "      <th>uploader</th>\n",
       "      <th>age</th>\n",
       "      <th>category</th>\n",
       "      <th>length</th>\n",
       "      <th>views</th>\n",
       "      <th>rate</th>\n",
       "      <th>ratings</th>\n",
       "      <th>comments</th>\n",
       "      <th>1</th>\n",
       "      <th>...</th>\n",
       "      <th>11</th>\n",
       "      <th>12</th>\n",
       "      <th>13</th>\n",
       "      <th>14</th>\n",
       "      <th>15</th>\n",
       "      <th>16</th>\n",
       "      <th>17</th>\n",
       "      <th>18</th>\n",
       "      <th>19</th>\n",
       "      <th>20</th>\n",
       "    </tr>\n",
       "  </thead>\n",
       "  <tbody>\n",
       "    <tr>\n",
       "      <th>0</th>\n",
       "      <td>LKh7zAJ4nwo</td>\n",
       "      <td>TheReceptionist</td>\n",
       "      <td>653.0</td>\n",
       "      <td>Entertainment</td>\n",
       "      <td>424.0</td>\n",
       "      <td>13021.0</td>\n",
       "      <td>4.34</td>\n",
       "      <td>1305.0</td>\n",
       "      <td>744.0</td>\n",
       "      <td>NaN</td>\n",
       "      <td>...</td>\n",
       "      <td>DjdA-5oKYFQ</td>\n",
       "      <td>vmdPOOd6cxI</td>\n",
       "      <td>uX81lMev6_o</td>\n",
       "      <td>NaN</td>\n",
       "      <td>W1Uo5DQTtzc</td>\n",
       "      <td>heqocRij5P0</td>\n",
       "      <td>2ZgXx72XmoE</td>\n",
       "      <td>1tUDzOp10pk</td>\n",
       "      <td>DH56yrIO5nI</td>\n",
       "      <td>E-3zXq_r4w0</td>\n",
       "    </tr>\n",
       "    <tr>\n",
       "      <th>1</th>\n",
       "      <td>7D0Mf4Kn4Xk</td>\n",
       "      <td>periurban</td>\n",
       "      <td>583.0</td>\n",
       "      <td>Music</td>\n",
       "      <td>201.0</td>\n",
       "      <td>6508.0</td>\n",
       "      <td>4.19</td>\n",
       "      <td>687.0</td>\n",
       "      <td>312.0</td>\n",
       "      <td>AvSK0qPw7EU</td>\n",
       "      <td>...</td>\n",
       "      <td>e2k0h6tPvGc</td>\n",
       "      <td>NaN</td>\n",
       "      <td>VKFqqoeMdjw</td>\n",
       "      <td>NSzrwv5MCwc</td>\n",
       "      <td>y3IDp2n7B48</td>\n",
       "      <td>N1lkLaLJHlc</td>\n",
       "      <td>NHB0a0xtLgU</td>\n",
       "      <td>Eq4hGkIqBGw</td>\n",
       "      <td>bdDskrr8jRY</td>\n",
       "      <td>JngPWhfCb2M</td>\n",
       "    </tr>\n",
       "    <tr>\n",
       "      <th>2</th>\n",
       "      <td>n1cEq1C8oqQ</td>\n",
       "      <td>Pipistrello</td>\n",
       "      <td>525.0</td>\n",
       "      <td>Comedy</td>\n",
       "      <td>125.0</td>\n",
       "      <td>1687.0</td>\n",
       "      <td>4.01</td>\n",
       "      <td>363.0</td>\n",
       "      <td>141.0</td>\n",
       "      <td>YfShxdbAJS8</td>\n",
       "      <td>...</td>\n",
       "      <td>eprHhmurMHg</td>\n",
       "      <td>yLup8wjbSIo</td>\n",
       "      <td>z5wDjq8o60c</td>\n",
       "      <td>bWlPSLUT-6U</td>\n",
       "      <td>bSPVayE0NhE</td>\n",
       "      <td>F2_5KOnSsfI</td>\n",
       "      <td>dsBTo5LExr0</td>\n",
       "      <td>gnpvEvuiFoQ</td>\n",
       "      <td>3nH5Tccz8EQ</td>\n",
       "      <td>sEqCkwPmQ_w</td>\n",
       "    </tr>\n",
       "    <tr>\n",
       "      <th>3</th>\n",
       "      <td>OHkEzL4Unck</td>\n",
       "      <td>ichannel</td>\n",
       "      <td>638.0</td>\n",
       "      <td>Comedy</td>\n",
       "      <td>299.0</td>\n",
       "      <td>8043.0</td>\n",
       "      <td>4.40</td>\n",
       "      <td>518.0</td>\n",
       "      <td>371.0</td>\n",
       "      <td>NaN</td>\n",
       "      <td>...</td>\n",
       "      <td>eyUSTmEUQRg</td>\n",
       "      <td>LQUV_XGzHmA</td>\n",
       "      <td>nfBfC8bif1Y</td>\n",
       "      <td>aiYwo5K0VWg</td>\n",
       "      <td>N4EYgXReBzM</td>\n",
       "      <td>FMuWYExDEJk</td>\n",
       "      <td>Ml2NaXU6gms</td>\n",
       "      <td>DVNwUKAuB3I</td>\n",
       "      <td>mDjwzhc8dQ0</td>\n",
       "      <td>NyC_0Z6zoUk</td>\n",
       "    </tr>\n",
       "    <tr>\n",
       "      <th>4</th>\n",
       "      <td>-boOvAGNKUc</td>\n",
       "      <td>mrpitifulband</td>\n",
       "      <td>639.0</td>\n",
       "      <td>Music</td>\n",
       "      <td>287.0</td>\n",
       "      <td>7548.0</td>\n",
       "      <td>4.48</td>\n",
       "      <td>606.0</td>\n",
       "      <td>386.0</td>\n",
       "      <td>JsdCu9T47iY</td>\n",
       "      <td>...</td>\n",
       "      <td>fmUwUURgsX0</td>\n",
       "      <td>eV2SdBITv8k</td>\n",
       "      <td>sf-Ym_pFP6U</td>\n",
       "      <td>0vhVZQEzgcU</td>\n",
       "      <td>lhWk9SXUjWI</td>\n",
       "      <td>geiABCqmQ84</td>\n",
       "      <td>dDhCZVQf9po</td>\n",
       "      <td>RZo5MisSTWo</td>\n",
       "      <td>saBmFpuwmKA</td>\n",
       "      <td>aVhSaa6aAOg</td>\n",
       "    </tr>\n",
       "  </tbody>\n",
       "</table>\n",
       "<p>5 rows × 29 columns</p>\n",
       "</div>"
      ],
      "text/plain": [
       "      video_id         uploader    age       category  length    views  rate  \\\n",
       "0  LKh7zAJ4nwo  TheReceptionist  653.0  Entertainment   424.0  13021.0  4.34   \n",
       "1  7D0Mf4Kn4Xk        periurban  583.0          Music   201.0   6508.0  4.19   \n",
       "2  n1cEq1C8oqQ      Pipistrello  525.0         Comedy   125.0   1687.0  4.01   \n",
       "3  OHkEzL4Unck         ichannel  638.0         Comedy   299.0   8043.0  4.40   \n",
       "4  -boOvAGNKUc    mrpitifulband  639.0          Music   287.0   7548.0  4.48   \n",
       "\n",
       "   ratings  comments            1     ...                11           12  \\\n",
       "0   1305.0     744.0          NaN     ...       DjdA-5oKYFQ  vmdPOOd6cxI   \n",
       "1    687.0     312.0  AvSK0qPw7EU     ...       e2k0h6tPvGc          NaN   \n",
       "2    363.0     141.0  YfShxdbAJS8     ...       eprHhmurMHg  yLup8wjbSIo   \n",
       "3    518.0     371.0          NaN     ...       eyUSTmEUQRg  LQUV_XGzHmA   \n",
       "4    606.0     386.0  JsdCu9T47iY     ...       fmUwUURgsX0  eV2SdBITv8k   \n",
       "\n",
       "            13           14           15           16           17  \\\n",
       "0  uX81lMev6_o          NaN  W1Uo5DQTtzc  heqocRij5P0  2ZgXx72XmoE   \n",
       "1  VKFqqoeMdjw  NSzrwv5MCwc  y3IDp2n7B48  N1lkLaLJHlc  NHB0a0xtLgU   \n",
       "2  z5wDjq8o60c  bWlPSLUT-6U  bSPVayE0NhE  F2_5KOnSsfI  dsBTo5LExr0   \n",
       "3  nfBfC8bif1Y  aiYwo5K0VWg  N4EYgXReBzM  FMuWYExDEJk  Ml2NaXU6gms   \n",
       "4  sf-Ym_pFP6U  0vhVZQEzgcU  lhWk9SXUjWI  geiABCqmQ84  dDhCZVQf9po   \n",
       "\n",
       "            18           19           20  \n",
       "0  1tUDzOp10pk  DH56yrIO5nI  E-3zXq_r4w0  \n",
       "1  Eq4hGkIqBGw  bdDskrr8jRY  JngPWhfCb2M  \n",
       "2  gnpvEvuiFoQ  3nH5Tccz8EQ  sEqCkwPmQ_w  \n",
       "3  DVNwUKAuB3I  mDjwzhc8dQ0  NyC_0Z6zoUk  \n",
       "4  RZo5MisSTWo  saBmFpuwmKA  aVhSaa6aAOg  \n",
       "\n",
       "[5 rows x 29 columns]"
      ]
     },
     "execution_count": 2,
     "metadata": {},
     "output_type": "execute_result"
    }
   ],
   "source": [
    "# read data\n",
    "data = pd.read_csv('train_data.csv')\n",
    "test = pd.read_csv('test_data.csv')\n",
    "test_pairs = test[['source', 'target']].values\n",
    "data.head()"
   ]
  },
  {
   "cell_type": "code",
   "execution_count": 3,
   "metadata": {
    "collapsed": true
   },
   "outputs": [],
   "source": [
    "video_set = data['video_id'].values\n",
    "video_list = data['video_id'].values.reshape(-1,1)\n",
    "\n",
    "for i in range(1,21,1):\n",
    "    video_set = np.concatenate((video_set,data[str(i)].values),axis=0) # concatenate vertically\n",
    "    video_list = np.concatenate((video_list,data[str(i)].values.reshape(-1,1)),axis=1) # concatenate horizontally"
   ]
  },
  {
   "cell_type": "code",
   "execution_count": 4,
   "metadata": {
    "collapsed": false
   },
   "outputs": [],
   "source": [
    "# build hash map to speed up search\n",
    "hashmap_video = {}; hashmap_cate = {}; hashmap_sim = {}; ind1=0; ind2=0\n",
    "parent_video = data['video_id'].values\n",
    "parent_video_set = set(parent_video)\n",
    "for index, row in data.iterrows():\n",
    "    hashmap_video[row['video_id']] = {'category': row['category'],'index':ind2}\n",
    "    try:\n",
    "        hashmap_cate[row['category']].append(row['video_id'])\n",
    "    except:\n",
    "        hashmap_cate[row['category']] = []\n",
    "        hashmap_cate[row['category']].append(row['video_id'])\n",
    "        hashmap_sim[row['category']] = ind1\n",
    "        ind1 += 1\n",
    "    ind2+=1"
   ]
  },
  {
   "cell_type": "code",
   "execution_count": 5,
   "metadata": {
    "collapsed": false
   },
   "outputs": [],
   "source": [
    "parent_edges = []\n",
    "\n",
    "import math\n",
    "for index0, row in enumerate(video_list):\n",
    "    for i in range(20):\n",
    "        try:\n",
    "            math.isnan(row[i+1])\n",
    "        except:\n",
    "            if row[i+1] in parent_video_set:\n",
    "                parent_edges.append((row[0], row[i+1]))"
   ]
  },
  {
   "cell_type": "markdown",
   "metadata": {
    "collapsed": true
   },
   "source": [
    "### spectral clustering test using onlyt the parents nodes"
   ]
  },
  {
   "cell_type": "code",
   "execution_count": 6,
   "metadata": {
    "collapsed": false
   },
   "outputs": [],
   "source": [
    "g_test = nx.DiGraph()\n",
    "g_test.add_nodes_from(list(set(parent_video_set))[1:])\n",
    "g_test.add_edges_from(parent_edges)"
   ]
  },
  {
   "cell_type": "code",
   "execution_count": 7,
   "metadata": {
    "collapsed": false
   },
   "outputs": [],
   "source": [
    "# L = nx.directed_laplacian_matrix(g_test)"
   ]
  },
  {
   "cell_type": "code",
   "execution_count": 8,
   "metadata": {
    "collapsed": false
   },
   "outputs": [],
   "source": [
    "# pickle.dump((w.real*1000000000).astype('int32'),open('w_small.p','wb'))\n",
    "# pickle.dump((v.real*1000000000).astype('int32'),open('v_small.p','wb'))"
   ]
  },
  {
   "cell_type": "code",
   "execution_count": 9,
   "metadata": {
    "collapsed": true
   },
   "outputs": [],
   "source": [
    "w=pickle.load(open('w_small.p','rb'))/1000000000\n",
    "v=pickle.load(open('v_small.p','rb'))/1000000000"
   ]
  },
  {
   "cell_type": "code",
   "execution_count": 15,
   "metadata": {
    "collapsed": false
   },
   "outputs": [
    {
     "data": {
      "text/plain": [
       "11738"
      ]
     },
     "execution_count": 15,
     "metadata": {},
     "output_type": "execute_result"
    }
   ],
   "source": [
    "index_range = np.array((np.where(np.logical_and(w>=0, w<1))))[0]\n",
    "len(index_range)"
   ]
  },
  {
   "cell_type": "code",
   "execution_count": null,
   "metadata": {
    "collapsed": false
   },
   "outputs": [],
   "source": [
    "minmax = MinMaxScaler()\n",
    "v1 = minmax.fit_transform(v[:,index_range].T).T"
   ]
  },
  {
   "cell_type": "code",
   "execution_count": null,
   "metadata": {
    "collapsed": false
   },
   "outputs": [],
   "source": [
    "lda = TruncatedSVD(n_components=2, random_state=0)\n",
    "XXX = lda.fit_transform(v1)"
   ]
  },
  {
   "cell_type": "code",
   "execution_count": null,
   "metadata": {
    "collapsed": false
   },
   "outputs": [],
   "source": [
    "k=2\n",
    "kmeans=KMeans(n_clusters=k)\n",
    "result=kmeans.fit_predict(v1)"
   ]
  },
  {
   "cell_type": "code",
   "execution_count": null,
   "metadata": {
    "collapsed": false
   },
   "outputs": [],
   "source": [
    "colors = cm.rainbow(np.linspace(0, 1, k))\n",
    "fg,ax = plt.subplots(1,2,figsize=(12,5))\n",
    "\n",
    "ax[0].scatter(XXX[:,0],XXX[:,1])\n",
    "for i in range(k):\n",
    "    ax[1].scatter(XXX[result==i,0],XXX[result==i,1],c=colors[i])\n",
    "plt.savefig('2 spectral clustering.png')\n",
    "plt.show()"
   ]
  },
  {
   "cell_type": "markdown",
   "metadata": {},
   "source": [
    "### benchmarking form undirected graph on test data"
   ]
  },
  {
   "cell_type": "code",
   "execution_count": 64,
   "metadata": {
    "collapsed": false
   },
   "outputs": [],
   "source": [
    "g= nx.Graph()\n",
    "g.add_nodes_from(list(set(video_set))[1:])"
   ]
  },
  {
   "cell_type": "code",
   "execution_count": 65,
   "metadata": {
    "collapsed": false
   },
   "outputs": [],
   "source": [
    "edge_pairs1 = []\n",
    "for row in video_list:\n",
    "    for i in range(20):\n",
    "        try:\n",
    "            math.isnan(row[i+1])\n",
    "        except:\n",
    "            edge_pairs1.append((row[0], row[i+1]))\n",
    "            \n",
    "g.add_edges_from(edge_pairs1)"
   ]
  },
  {
   "cell_type": "code",
   "execution_count": 66,
   "metadata": {
    "collapsed": false,
    "scrolled": true
   },
   "outputs": [],
   "source": [
    "path_length_undirect=np.ones(99500)*100\n",
    "ct=0\n",
    "for index, pair in enumerate(test_pairs):\n",
    "    try:\n",
    "        path_length_undirect[index]=nx.shortest_path_length(g, source=pair[0], target=pair[1])\n",
    "    except: path_length_undirect[index] = 200"
   ]
  },
  {
   "cell_type": "code",
   "execution_count": 67,
   "metadata": {
    "collapsed": false
   },
   "outputs": [
    {
     "data": {
      "image/png": "[encoded data removed]",
      "text/plain": [
       "<matplotlib.figure.Figure at 0x1ba1df958d0>"
      ]
     },
     "metadata": {},
     "output_type": "display_data"
    }
   ],
   "source": [
    "plt.figure(figsize=(4,3))\n",
    "plt.hist(path_length_undirect,200)\n",
    "plt.xlim(0,12)\n",
    "plt.show()"
   ]
  },
  {
   "cell_type": "code",
   "execution_count": 68,
   "metadata": {
    "collapsed": false
   },
   "outputs": [],
   "source": [
    "output = np.zeros(99500)\n",
    "for index, length in enumerate(path_length_undirect):\n",
    "    if length <= 1 or length == 200:\n",
    "        output[index]=1"
   ]
  },
  {
   "cell_type": "code",
   "execution_count": 69,
   "metadata": {
    "collapsed": false
   },
   "outputs": [
    {
     "data": {
      "image/png": "[encoded data removed]",
      "text/plain": [
       "<matplotlib.figure.Figure at 0x1ba42a4e7f0>"
      ]
     },
     "metadata": {},
     "output_type": "display_data"
    }
   ],
   "source": [
    "plt.figure(figsize=(4,3))\n",
    "plt.hist(output)\n",
    "plt.show()"
   ]
  },
  {
   "cell_type": "markdown",
   "metadata": {},
   "source": [
    "### separate parent videos into to clusters"
   ]
  },
  {
   "cell_type": "code",
   "execution_count": 77,
   "metadata": {
    "collapsed": false
   },
   "outputs": [
    {
     "data": {
      "text/plain": [
       "Counter({0: 17030, 1: 9871})"
      ]
     },
     "execution_count": 77,
     "metadata": {},
     "output_type": "execute_result"
    }
   ],
   "source": [
    "Counter(result)"
   ]
  },
  {
   "cell_type": "code",
   "execution_count": 78,
   "metadata": {
    "collapsed": true
   },
   "outputs": [],
   "source": [
    "hashmap_gtest = {}\n",
    "for index, node in enumerate(g_test.nodes()):\n",
    "    hashmap_gtest[node]=result[index]"
   ]
  },
  {
   "cell_type": "code",
   "execution_count": 79,
   "metadata": {
    "collapsed": false
   },
   "outputs": [],
   "source": [
    "clu0_edges = []\n",
    "clu1_edges = []\n",
    "# clu2_edges = []\n",
    "clu0_nodes = []\n",
    "clu1_nodes = []\n",
    "# clu2_nodes = []\n",
    "\n",
    "# form edge pair\n",
    "import math\n",
    "for index0, row in enumerate(video_list):\n",
    "    if hashmap_gtest[row[0]] == 0:\n",
    "        clu0_nodes.append(row[0])\n",
    "        for i in range(20):\n",
    "            try:\n",
    "                math.isnan(row[i+1])\n",
    "            except:\n",
    "                clu0_edges.append((row[0], row[i+1]))\n",
    "                clu0_nodes.append(row[i+1])\n",
    "                \n",
    "    elif hashmap_gtest[row[0]] == 1:\n",
    "        clu1_nodes.append(row[0])\n",
    "        for i in range(20):\n",
    "            try:\n",
    "                math.isnan(row[i+1])\n",
    "            except:\n",
    "                clu1_edges.append((row[0], row[i+1]))\n",
    "                clu1_nodes.append(row[i+1])\n",
    "                \n",
    "#     else:\n",
    "#         clu2_nodes.append(row[0])\n",
    "#         for i in range(20):\n",
    "#             try:\n",
    "#                 math.isnan(row[i+1])\n",
    "#             except:\n",
    "#                 clu2_edges.append((row[0], row[i+1]))\n",
    "#                 clu2_nodes.append(row[i+1])"
   ]
  },
  {
   "cell_type": "code",
   "execution_count": 80,
   "metadata": {
    "collapsed": false
   },
   "outputs": [
    {
     "data": {
      "text/plain": [
       "157716"
      ]
     },
     "execution_count": 80,
     "metadata": {},
     "output_type": "execute_result"
    }
   ],
   "source": [
    "g0=nx.DiGraph()\n",
    "g0.add_nodes_from(list(set(clu0_nodes))[1:])\n",
    "g0.add_edges_from(clu0_edges)\n",
    "len(g0.nodes())"
   ]
  },
  {
   "cell_type": "code",
   "execution_count": 81,
   "metadata": {
    "collapsed": false
   },
   "outputs": [
    {
     "data": {
      "text/plain": [
       "104607"
      ]
     },
     "execution_count": 81,
     "metadata": {},
     "output_type": "execute_result"
    }
   ],
   "source": [
    "g1=nx.DiGraph()\n",
    "g1.add_nodes_from(list(set(clu1_nodes))[1:])\n",
    "g1.add_edges_from(clu1_edges)\n",
    "len(g1.nodes())"
   ]
  },
  {
   "cell_type": "code",
   "execution_count": 61,
   "metadata": {
    "collapsed": false
   },
   "outputs": [
    {
     "data": {
      "text/plain": [
       "58110"
      ]
     },
     "execution_count": 61,
     "metadata": {},
     "output_type": "execute_result"
    }
   ],
   "source": [
    "# g2=nx.DiGraph()\n",
    "# g2.add_nodes_from(list(set(clu2_nodes))[1:])\n",
    "# g2.add_edges_from(clu2_edges)\n",
    "# len(g2.nodes())"
   ]
  },
  {
   "cell_type": "code",
   "execution_count": 82,
   "metadata": {
    "collapsed": false
   },
   "outputs": [],
   "source": [
    "start=time.time()\n",
    "path_length_0=np.ones(99500)*100\n",
    "path_length_1=np.ones(99500)*100\n",
    "path_length_2=np.ones(99500)*100\n",
    "\n",
    "for index, pair in enumerate(test_pairs):\n",
    "    if output[index] != 1:\n",
    "        try:\n",
    "            path_length_0[index]=nx.shortest_path_length(g0, source=pair[0], target=pair[1])\n",
    "        except: None\n",
    "            \n",
    "        try:\n",
    "            path_length_1[index]=nx.shortest_path_length(g1, source=pair[0], target=pair[1]) \n",
    "        except: None\n",
    "            \n",
    "#         try:\n",
    "#             path_length_2[index]=nx.shortest_path_length(g2, source=pair[0], target=pair[1])\n",
    "#         except: None"
   ]
  },
  {
   "cell_type": "code",
   "execution_count": 83,
   "metadata": {
    "collapsed": false
   },
   "outputs": [
    {
     "data": {
      "image/png": "[encoded data removed]",
      "text/plain": [
       "<matplotlib.figure.Figure at 0x1b9fe60c240>"
      ]
     },
     "metadata": {},
     "output_type": "display_data"
    },
    {
     "data": {
      "image/png": "[encoded data removed]",
      "text/plain": [
       "<matplotlib.figure.Figure at 0x1b9fe63e470>"
      ]
     },
     "metadata": {},
     "output_type": "display_data"
    }
   ],
   "source": [
    "plt.figure(figsize=(5,2))\n",
    "plt.hist(path_length_0,100)\n",
    "plt.ylim(0,400)\n",
    "plt.xlim(0,99)\n",
    "plt.show()\n",
    "plt.figure(figsize=(5,2))\n",
    "plt.hist(path_length_1,100)\n",
    "plt.ylim(0,400)\n",
    "plt.xlim(0,99)\n",
    "plt.show()\n",
    "# plt.figure(figsize=(5,2))\n",
    "# plt.hist(path_length_2,100)\n",
    "# plt.ylim(0,400)\n",
    "# plt.xlim(0,99)\n",
    "# plt.show()"
   ]
  },
  {
   "cell_type": "code",
   "execution_count": 119,
   "metadata": {
    "collapsed": false
   },
   "outputs": [],
   "source": [
    "output2 = np.zeros(99500)\n",
    "for index, length in enumerate(path_length_undirect):\n",
    "    if length <= 4 or length == 200:\n",
    "        output2[index]=1\n",
    "        if 100> path_length_0[index] > 27 or 100> path_length_1[index] > 10:\n",
    "            output2[index]=0"
   ]
  },
  {
   "cell_type": "code",
   "execution_count": 120,
   "metadata": {
    "collapsed": false
   },
   "outputs": [
    {
     "data": {
      "text/plain": [
       "Counter({0.0: 44995, 1.0: 54505})"
      ]
     },
     "execution_count": 120,
     "metadata": {},
     "output_type": "execute_result"
    }
   ],
   "source": [
    "Counter(output2)"
   ]
  },
  {
   "cell_type": "code",
   "execution_count": 121,
   "metadata": {
    "collapsed": false
   },
   "outputs": [
    {
     "data": {
      "image/png": "[encoded data removed]",
      "text/plain": [
       "<matplotlib.figure.Figure at 0x1ba17fa9f28>"
      ]
     },
     "metadata": {},
     "output_type": "display_data"
    }
   ],
   "source": [
    "plt.figure(figsize=(4,3))\n",
    "plt.hist(output2)\n",
    "plt.show()"
   ]
  },
  {
   "cell_type": "code",
   "execution_count": 122,
   "metadata": {
    "collapsed": false
   },
   "outputs": [],
   "source": [
    "pd.concat((test['edge_id'],DF(output2.astype('int8'),columns=['edge_present'])),axis=1).to_csv('output.csv',index=False)"
   ]
  },
  {
   "cell_type": "markdown",
   "metadata": {
    "collapsed": true
   },
   "source": [
    "## This method achieved AUC of 0.92207"
   ]
  },
  {
   "cell_type": "code",
   "execution_count": null,
   "metadata": {
    "collapsed": true
   },
   "outputs": [],
   "source": []
  }
 ],
 "metadata": {
  "anaconda-cloud": {},
  "kernelspec": {
   "display_name": "Python [default]",
   "language": "python",
   "name": "python3"
  },
  "language_info": {
   "codemirror_mode": {
    "name": "ipython",
    "version": 3
   },
   "file_extension": ".py",
   "mimetype": "text/x-python",
   "name": "python",
   "nbconvert_exporter": "python",
   "pygments_lexer": "ipython3",
   "version": "3.5.2"
  }
 },
 "nbformat": 4,
 "nbformat_minor": 1
}
