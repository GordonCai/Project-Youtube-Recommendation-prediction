{
 "cells": [
  {
   "cell_type": "code",
   "execution_count": 18,
   "metadata": {
    "collapsed": true
   },
   "outputs": [],
   "source": [
    "import pandas as pd\n",
    "import numpy as np\n",
    "from pandas import DataFrame as DF\n",
    "from matplotlib import pyplot as plt\n",
    "import networkx as nx\n",
    "import matplotlib.cm as cm\n",
    "import math\n",
    "import scipy.sparse\n",
    "from collections import Counter\n",
    "from sklearn.cluster import KMeans\n",
    "from sklearn.decomposition import TruncatedSVD"
   ]
  },
  {
   "cell_type": "code",
   "execution_count": 2,
   "metadata": {
    "collapsed": false
   },
   "outputs": [
    {
     "data": {
      "text/html": [
       "<div>\n",
       "<table border=\"1\" class=\"dataframe\">\n",
       "  <thead>\n",
       "    <tr style=\"text-align: right;\">\n",
       "      <th></th>\n",
       "      <th>video_id</th>\n",
       "      <th>uploader</th>\n",
       "      <th>age</th>\n",
       "      <th>category</th>\n",
       "      <th>length</th>\n",
       "      <th>views</th>\n",
       "      <th>rate</th>\n",
       "      <th>ratings</th>\n",
       "      <th>comments</th>\n",
       "      <th>1</th>\n",
       "      <th>...</th>\n",
       "      <th>11</th>\n",
       "      <th>12</th>\n",
       "      <th>13</th>\n",
       "      <th>14</th>\n",
       "      <th>15</th>\n",
       "      <th>16</th>\n",
       "      <th>17</th>\n",
       "      <th>18</th>\n",
       "      <th>19</th>\n",
       "      <th>20</th>\n",
       "    </tr>\n",
       "  </thead>\n",
       "  <tbody>\n",
       "    <tr>\n",
       "      <th>0</th>\n",
       "      <td>LKh7zAJ4nwo</td>\n",
       "      <td>TheReceptionist</td>\n",
       "      <td>653.0</td>\n",
       "      <td>Entertainment</td>\n",
       "      <td>424.0</td>\n",
       "      <td>13021.0</td>\n",
       "      <td>4.34</td>\n",
       "      <td>1305.0</td>\n",
       "      <td>744.0</td>\n",
       "      <td>NaN</td>\n",
       "      <td>...</td>\n",
       "      <td>DjdA-5oKYFQ</td>\n",
       "      <td>vmdPOOd6cxI</td>\n",
       "      <td>uX81lMev6_o</td>\n",
       "      <td>NaN</td>\n",
       "      <td>W1Uo5DQTtzc</td>\n",
       "      <td>heqocRij5P0</td>\n",
       "      <td>2ZgXx72XmoE</td>\n",
       "      <td>1tUDzOp10pk</td>\n",
       "      <td>DH56yrIO5nI</td>\n",
       "      <td>E-3zXq_r4w0</td>\n",
       "    </tr>\n",
       "    <tr>\n",
       "      <th>1</th>\n",
       "      <td>7D0Mf4Kn4Xk</td>\n",
       "      <td>periurban</td>\n",
       "      <td>583.0</td>\n",
       "      <td>Music</td>\n",
       "      <td>201.0</td>\n",
       "      <td>6508.0</td>\n",
       "      <td>4.19</td>\n",
       "      <td>687.0</td>\n",
       "      <td>312.0</td>\n",
       "      <td>AvSK0qPw7EU</td>\n",
       "      <td>...</td>\n",
       "      <td>e2k0h6tPvGc</td>\n",
       "      <td>NaN</td>\n",
       "      <td>VKFqqoeMdjw</td>\n",
       "      <td>NSzrwv5MCwc</td>\n",
       "      <td>y3IDp2n7B48</td>\n",
       "      <td>N1lkLaLJHlc</td>\n",
       "      <td>NHB0a0xtLgU</td>\n",
       "      <td>Eq4hGkIqBGw</td>\n",
       "      <td>bdDskrr8jRY</td>\n",
       "      <td>JngPWhfCb2M</td>\n",
       "    </tr>\n",
       "    <tr>\n",
       "      <th>2</th>\n",
       "      <td>n1cEq1C8oqQ</td>\n",
       "      <td>Pipistrello</td>\n",
       "      <td>525.0</td>\n",
       "      <td>Comedy</td>\n",
       "      <td>125.0</td>\n",
       "      <td>1687.0</td>\n",
       "      <td>4.01</td>\n",
       "      <td>363.0</td>\n",
       "      <td>141.0</td>\n",
       "      <td>YfShxdbAJS8</td>\n",
       "      <td>...</td>\n",
       "      <td>eprHhmurMHg</td>\n",
       "      <td>yLup8wjbSIo</td>\n",
       "      <td>z5wDjq8o60c</td>\n",
       "      <td>bWlPSLUT-6U</td>\n",
       "      <td>bSPVayE0NhE</td>\n",
       "      <td>F2_5KOnSsfI</td>\n",
       "      <td>dsBTo5LExr0</td>\n",
       "      <td>gnpvEvuiFoQ</td>\n",
       "      <td>3nH5Tccz8EQ</td>\n",
       "      <td>sEqCkwPmQ_w</td>\n",
       "    </tr>\n",
       "    <tr>\n",
       "      <th>3</th>\n",
       "      <td>OHkEzL4Unck</td>\n",
       "      <td>ichannel</td>\n",
       "      <td>638.0</td>\n",
       "      <td>Comedy</td>\n",
       "      <td>299.0</td>\n",
       "      <td>8043.0</td>\n",
       "      <td>4.40</td>\n",
       "      <td>518.0</td>\n",
       "      <td>371.0</td>\n",
       "      <td>NaN</td>\n",
       "      <td>...</td>\n",
       "      <td>eyUSTmEUQRg</td>\n",
       "      <td>LQUV_XGzHmA</td>\n",
       "      <td>nfBfC8bif1Y</td>\n",
       "      <td>aiYwo5K0VWg</td>\n",
       "      <td>N4EYgXReBzM</td>\n",
       "      <td>FMuWYExDEJk</td>\n",
       "      <td>Ml2NaXU6gms</td>\n",
       "      <td>DVNwUKAuB3I</td>\n",
       "      <td>mDjwzhc8dQ0</td>\n",
       "      <td>NyC_0Z6zoUk</td>\n",
       "    </tr>\n",
       "    <tr>\n",
       "      <th>4</th>\n",
       "      <td>-boOvAGNKUc</td>\n",
       "      <td>mrpitifulband</td>\n",
       "      <td>639.0</td>\n",
       "      <td>Music</td>\n",
       "      <td>287.0</td>\n",
       "      <td>7548.0</td>\n",
       "      <td>4.48</td>\n",
       "      <td>606.0</td>\n",
       "      <td>386.0</td>\n",
       "      <td>JsdCu9T47iY</td>\n",
       "      <td>...</td>\n",
       "      <td>fmUwUURgsX0</td>\n",
       "      <td>eV2SdBITv8k</td>\n",
       "      <td>sf-Ym_pFP6U</td>\n",
       "      <td>0vhVZQEzgcU</td>\n",
       "      <td>lhWk9SXUjWI</td>\n",
       "      <td>geiABCqmQ84</td>\n",
       "      <td>dDhCZVQf9po</td>\n",
       "      <td>RZo5MisSTWo</td>\n",
       "      <td>saBmFpuwmKA</td>\n",
       "      <td>aVhSaa6aAOg</td>\n",
       "    </tr>\n",
       "  </tbody>\n",
       "</table>\n",
       "<p>5 rows × 29 columns</p>\n",
       "</div>"
      ],
      "text/plain": [
       "      video_id         uploader    age       category  length    views  rate  \\\n",
       "0  LKh7zAJ4nwo  TheReceptionist  653.0  Entertainment   424.0  13021.0  4.34   \n",
       "1  7D0Mf4Kn4Xk        periurban  583.0          Music   201.0   6508.0  4.19   \n",
       "2  n1cEq1C8oqQ      Pipistrello  525.0         Comedy   125.0   1687.0  4.01   \n",
       "3  OHkEzL4Unck         ichannel  638.0         Comedy   299.0   8043.0  4.40   \n",
       "4  -boOvAGNKUc    mrpitifulband  639.0          Music   287.0   7548.0  4.48   \n",
       "\n",
       "   ratings  comments            1     ...                11           12  \\\n",
       "0   1305.0     744.0          NaN     ...       DjdA-5oKYFQ  vmdPOOd6cxI   \n",
       "1    687.0     312.0  AvSK0qPw7EU     ...       e2k0h6tPvGc          NaN   \n",
       "2    363.0     141.0  YfShxdbAJS8     ...       eprHhmurMHg  yLup8wjbSIo   \n",
       "3    518.0     371.0          NaN     ...       eyUSTmEUQRg  LQUV_XGzHmA   \n",
       "4    606.0     386.0  JsdCu9T47iY     ...       fmUwUURgsX0  eV2SdBITv8k   \n",
       "\n",
       "            13           14           15           16           17  \\\n",
       "0  uX81lMev6_o          NaN  W1Uo5DQTtzc  heqocRij5P0  2ZgXx72XmoE   \n",
       "1  VKFqqoeMdjw  NSzrwv5MCwc  y3IDp2n7B48  N1lkLaLJHlc  NHB0a0xtLgU   \n",
       "2  z5wDjq8o60c  bWlPSLUT-6U  bSPVayE0NhE  F2_5KOnSsfI  dsBTo5LExr0   \n",
       "3  nfBfC8bif1Y  aiYwo5K0VWg  N4EYgXReBzM  FMuWYExDEJk  Ml2NaXU6gms   \n",
       "4  sf-Ym_pFP6U  0vhVZQEzgcU  lhWk9SXUjWI  geiABCqmQ84  dDhCZVQf9po   \n",
       "\n",
       "            18           19           20  \n",
       "0  1tUDzOp10pk  DH56yrIO5nI  E-3zXq_r4w0  \n",
       "1  Eq4hGkIqBGw  bdDskrr8jRY  JngPWhfCb2M  \n",
       "2  gnpvEvuiFoQ  3nH5Tccz8EQ  sEqCkwPmQ_w  \n",
       "3  DVNwUKAuB3I  mDjwzhc8dQ0  NyC_0Z6zoUk  \n",
       "4  RZo5MisSTWo  saBmFpuwmKA  aVhSaa6aAOg  \n",
       "\n",
       "[5 rows x 29 columns]"
      ]
     },
     "execution_count": 2,
     "metadata": {},
     "output_type": "execute_result"
    }
   ],
   "source": [
    "# read data\n",
    "data = pd.read_csv('train_data.csv')\n",
    "test = pd.read_csv('test_data.csv')\n",
    "test_pairs = test[['source', 'target']].values\n",
    "data.head()"
   ]
  },
  {
   "cell_type": "code",
   "execution_count": 3,
   "metadata": {
    "collapsed": true
   },
   "outputs": [],
   "source": [
    "video_set = data['video_id'].values\n",
    "video_list = data['video_id'].values.reshape(-1,1)\n",
    "\n",
    "for i in range(1,21,1):\n",
    "    video_set = np.concatenate((video_set,data[str(i)].values),axis=0)\n",
    "    video_list = np.concatenate((video_list,data[str(i)].values.reshape(-1,1)),axis=1)"
   ]
  },
  {
   "cell_type": "code",
   "execution_count": 99,
   "metadata": {
    "collapsed": true
   },
   "outputs": [],
   "source": [
    "g= nx.DiGraph()\n",
    "g.add_nodes_from(list(set(video_set))[1:])"
   ]
  },
  {
   "cell_type": "code",
   "execution_count": 100,
   "metadata": {
    "collapsed": true
   },
   "outputs": [],
   "source": [
    "edge_pairs1 = []\n",
    "for row in video_list:\n",
    "    for i in range(20):\n",
    "        try:\n",
    "            math.isnan(row[i+1])\n",
    "        except:\n",
    "            edge_pairs1.append((row[0], row[i+1]))\n",
    "            \n",
    "g.add_edges_from(edge_pairs1)"
   ]
  },
  {
   "cell_type": "code",
   "execution_count": 6,
   "metadata": {
    "collapsed": true
   },
   "outputs": [],
   "source": [
    "all_edges = g.edges()\n",
    "all_nodes = g.nodes()\n",
    "all_degree = g.degree()"
   ]
  },
  {
   "cell_type": "code",
   "execution_count": 7,
   "metadata": {
    "collapsed": false
   },
   "outputs": [],
   "source": [
    "hashmap_video = {}\n",
    "for index, row in enumerate(all_nodes):\n",
    "    hashmap_video[row] = index"
   ]
  },
  {
   "cell_type": "code",
   "execution_count": 8,
   "metadata": {
    "collapsed": false
   },
   "outputs": [],
   "source": [
    "A = np.zeros((len(all_nodes),len(all_nodes)),dtype=np.int8)\n",
    "\n",
    "for pair in all_edges:\n",
    "    A[hashmap_video[pair[0]], hashmap_video[pair[1]]]=-1"
   ]
  },
  {
   "cell_type": "code",
   "execution_count": 9,
   "metadata": {
    "collapsed": false
   },
   "outputs": [],
   "source": [
    "D = np.zeros(len(all_nodes),dtype=np.int8)\n",
    "\n",
    "for node in all_nodes:\n",
    "    D[hashmap_video[node]] = all_degree[node]"
   ]
  },
  {
   "cell_type": "code",
   "execution_count": 10,
   "metadata": {
    "collapsed": false
   },
   "outputs": [],
   "source": [
    "for index,row in enumerate(A):\n",
    "    A[index,index] = D[index]"
   ]
  },
  {
   "cell_type": "code",
   "execution_count": 10,
   "metadata": {
    "collapsed": true
   },
   "outputs": [],
   "source": [
    "tmp = scipy.sparse.csr_matrix(A).asfptype()"
   ]
  },
  {
   "cell_type": "code",
   "execution_count": 53,
   "metadata": {
    "collapsed": false
   },
   "outputs": [],
   "source": [
    "w,v = scipy.sparse.linalg.eigs(tmp,k=100)"
   ]
  },
  {
   "cell_type": "code",
   "execution_count": 84,
   "metadata": {
    "collapsed": false
   },
   "outputs": [
    {
     "data": {
      "image/png": "[encoded data removed]",
      "text/plain": [
       "<matplotlib.figure.Figure at 0x22bebd65358>"
      ]
     },
     "metadata": {},
     "output_type": "display_data"
    }
   ],
   "source": [
    "plt.plot(sorted(v[:,1].real))\n",
    "plt.plot(np.zeros(len(all_nodes)))\n",
    "plt.ylim(-0.000000001,0.000000001)\n",
    "plt.savefig('5 second smallest eigenvalue.png')\n",
    "plt.show()"
   ]
  },
  {
   "cell_type": "code",
   "execution_count": 86,
   "metadata": {
    "collapsed": false
   },
   "outputs": [],
   "source": [
    "result=np.zeros(len(all_nodes))\n",
    "result[v[:,-1]>0]=1"
   ]
  },
  {
   "cell_type": "code",
   "execution_count": null,
   "metadata": {
    "collapsed": true
   },
   "outputs": [],
   "source": []
  },
  {
   "cell_type": "code",
   "execution_count": 120,
   "metadata": {
    "collapsed": true
   },
   "outputs": [],
   "source": [
    "g= nx.Graph()\n",
    "g.add_nodes_from(list(set(video_set))[1:])"
   ]
  },
  {
   "cell_type": "code",
   "execution_count": 108,
   "metadata": {
    "collapsed": true
   },
   "outputs": [],
   "source": [
    "edge_pairs1 = []\n",
    "for row in video_list:\n",
    "    for i in range(20):\n",
    "        try:\n",
    "            math.isnan(row[i+1])\n",
    "        except:\n",
    "            edge_pairs1.append((row[0], row[i+1]))\n",
    "            \n",
    "g.add_edges_from(edge_pairs1)"
   ]
  },
  {
   "cell_type": "code",
   "execution_count": 109,
   "metadata": {
    "collapsed": false
   },
   "outputs": [],
   "source": [
    "path_length_undirect=np.ones(99500)*100\n",
    "ct=0\n",
    "for index, pair in enumerate(test_pairs):\n",
    "    try:\n",
    "        path_length_undirect[index]=nx.shortest_path_length(g, source=pair[0], target=pair[1])\n",
    "    except: path_length_undirect[index] = 200"
   ]
  },
  {
   "cell_type": "code",
   "execution_count": 243,
   "metadata": {
    "collapsed": false
   },
   "outputs": [
    {
     "data": {
      "text/plain": [
       "Counter({0.0: 109261, 1.0: 109082})"
      ]
     },
     "execution_count": 243,
     "metadata": {},
     "output_type": "execute_result"
    }
   ],
   "source": [
    "Counter(result)"
   ]
  },
  {
   "cell_type": "code",
   "execution_count": 244,
   "metadata": {
    "collapsed": true
   },
   "outputs": [],
   "source": [
    "hashmap_gtest = {}\n",
    "clu0_nodes = []\n",
    "clu1_nodes = []\n",
    "\n",
    "for index, node in enumerate(g.nodes()):\n",
    "    hashmap_gtest[node]=result[index]\n",
    "    if result[index]==1:\n",
    "        clu1_nodes.append(node)\n",
    "    else:\n",
    "        clu0_nodes.append(node)"
   ]
  },
  {
   "cell_type": "code",
   "execution_count": 245,
   "metadata": {
    "collapsed": true
   },
   "outputs": [],
   "source": [
    "clu0_edges = []\n",
    "clu1_edges = []\n",
    "\n",
    "for index0, row in enumerate(video_list):\n",
    "    if hashmap_gtest[row[0]] == 0:\n",
    "        for i in range(20):\n",
    "            try:\n",
    "                math.isnan(row[i+1])\n",
    "            except:\n",
    "                if hashmap_gtest[row[i+1]] == 0:\n",
    "                    clu0_edges.append((row[0], row[i+1]))\n",
    "                \n",
    "    if hashmap_gtest[row[0]] == 1:\n",
    "        for i in range(20):\n",
    "            try:\n",
    "                math.isnan(row[i+1])\n",
    "            except:\n",
    "                if hashmap_gtest[row[i+1]] == 1:\n",
    "                    clu1_edges.append((row[0], row[i+1]))"
   ]
  },
  {
   "cell_type": "code",
   "execution_count": 246,
   "metadata": {
    "collapsed": false
   },
   "outputs": [
    {
     "data": {
      "text/plain": [
       "109261"
      ]
     },
     "execution_count": 246,
     "metadata": {},
     "output_type": "execute_result"
    }
   ],
   "source": [
    "g0=nx.Graph()\n",
    "g0.add_nodes_from(list(set(clu0_nodes))[1:])\n",
    "g0.add_edges_from(clu0_edges)\n",
    "len(g0.nodes())"
   ]
  },
  {
   "cell_type": "code",
   "execution_count": 247,
   "metadata": {
    "collapsed": false
   },
   "outputs": [
    {
     "data": {
      "text/plain": [
       "109083"
      ]
     },
     "execution_count": 247,
     "metadata": {},
     "output_type": "execute_result"
    }
   ],
   "source": [
    "g1=nx.Graph()\n",
    "g1.add_nodes_from(list(set(clu1_nodes))[1:])\n",
    "g1.add_edges_from(clu1_edges)\n",
    "len(g1.nodes())"
   ]
  },
  {
   "cell_type": "code",
   "execution_count": 248,
   "metadata": {
    "collapsed": false
   },
   "outputs": [],
   "source": [
    "path_length_0=np.ones(99500)*100\n",
    "path_length_1=np.ones(99500)*100\n",
    "path_length_2=np.ones(99500)*100\n",
    "\n",
    "for index, pair in enumerate(test_pairs):\n",
    "    try:\n",
    "        path_length_0[index]=nx.shortest_path_length(g0, source=pair[0], target=pair[1])\n",
    "    except: path_length_0[index] = 200\n",
    "\n",
    "    try:\n",
    "        path_length_1[index]=nx.shortest_path_length(g1, source=pair[0], target=pair[1]) \n",
    "    except: path_length_1[index] = 200"
   ]
  },
  {
   "cell_type": "code",
   "execution_count": 249,
   "metadata": {
    "collapsed": false
   },
   "outputs": [
    {
     "data": {
      "image/png": "[encoded data removed]",
      "text/plain": [
       "<matplotlib.figure.Figure at 0x220bd2023c8>"
      ]
     },
     "metadata": {},
     "output_type": "display_data"
    },
    {
     "data": {
      "image/png": "[encoded data removed]",
      "text/plain": [
       "<matplotlib.figure.Figure at 0x220bd202f28>"
      ]
     },
     "metadata": {},
     "output_type": "display_data"
    }
   ],
   "source": [
    "plt.figure(figsize=(5,2))\n",
    "plt.hist(path_length_0,200)\n",
    "plt.ylim(0,5000)\n",
    "plt.xlim(0,20)\n",
    "plt.show()\n",
    "plt.figure(figsize=(5,2))\n",
    "plt.hist(path_length_1,200)\n",
    "plt.ylim(0,5000)\n",
    "plt.xlim(0,20)\n",
    "plt.show()"
   ]
  },
  {
   "cell_type": "code",
   "execution_count": 234,
   "metadata": {
    "collapsed": false
   },
   "outputs": [],
   "source": [
    "output = np.zeros(99500)\n",
    "for index, length in enumerate(path_length_1):\n",
    "    if path_length_1[index]<=10 or path_length_0[index]<=10:\n",
    "        output[index]=1\n",
    "    if path_length_undirect[index]==200:\n",
    "        output[index]=1"
   ]
  },
  {
   "cell_type": "code",
   "execution_count": 235,
   "metadata": {
    "collapsed": false
   },
   "outputs": [
    {
     "data": {
      "image/png": "[encoded data removed]",
      "text/plain": [
       "<matplotlib.figure.Figure at 0x220bc0696d8>"
      ]
     },
     "metadata": {},
     "output_type": "display_data"
    }
   ],
   "source": [
    "plt.figure(figsize=(4,3))\n",
    "plt.hist(output)\n",
    "plt.show()"
   ]
  },
  {
   "cell_type": "code",
   "execution_count": 236,
   "metadata": {
    "collapsed": true
   },
   "outputs": [],
   "source": [
    "pd.concat((test['edge_id'],DF(output.astype('int8'),columns=['edge_present'])),axis=1).to_csv('output.csv',index=False)"
   ]
  },
  {
   "cell_type": "markdown",
   "metadata": {
    "collapsed": true
   },
   "source": [
    "## this result achieved AUC of 0.78 on Kaggle"
   ]
  },
  {
   "cell_type": "code",
   "execution_count": null,
   "metadata": {
    "collapsed": true
   },
   "outputs": [],
   "source": []
  }
 ],
 "metadata": {
  "anaconda-cloud": {},
  "kernelspec": {
   "display_name": "Python [default]",
   "language": "python",
   "name": "python3"
  },
  "language_info": {
   "codemirror_mode": {
    "name": "ipython",
    "version": 3
   },
   "file_extension": ".py",
   "mimetype": "text/x-python",
   "name": "python",
   "nbconvert_exporter": "python",
   "pygments_lexer": "ipython3",
   "version": "3.5.2"
  }
 },
 "nbformat": 4,
 "nbformat_minor": 1
}
